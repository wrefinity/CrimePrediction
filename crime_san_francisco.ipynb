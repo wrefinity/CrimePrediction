{
 "cells": [
  {
   "cell_type": "code",
   "execution_count": 115,
   "id": "74b27833",
   "metadata": {},
   "outputs": [
    {
     "name": "stdout",
     "output_type": "stream",
     "text": [
      "Requirement already satisfied: geopandas in c:\\users\\wrash-tech\\anaconda3\\lib\\site-packages (0.13.2)\n",
      "Collecting fiona>=1.8.19\n",
      "  Using cached Fiona-1.9.4.post1-cp39-cp39-win_amd64.whl (22.7 MB)\n",
      "Requirement already satisfied: pyproj>=3.0.1 in c:\\users\\wrash-tech\\anaconda3\\lib\\site-packages (from geopandas) (3.6.0)\n",
      "Requirement already satisfied: packaging in c:\\users\\wrash-tech\\anaconda3\\lib\\site-packages (from geopandas) (21.0)\n",
      "Requirement already satisfied: pandas>=1.1.0 in c:\\users\\wrash-tech\\anaconda3\\lib\\site-packages (from geopandas) (1.3.4)\n",
      "Requirement already satisfied: shapely>=1.7.1 in c:\\users\\wrash-tech\\anaconda3\\lib\\site-packages (from geopandas) (2.0.1)\n",
      "Requirement already satisfied: cligj>=0.5 in c:\\users\\wrash-tech\\anaconda3\\lib\\site-packages (from fiona>=1.8.19->geopandas) (0.7.2)\n",
      "Requirement already satisfied: six in c:\\users\\wrash-tech\\appdata\\roaming\\python\\python39\\site-packages (from fiona>=1.8.19->geopandas) (1.14.0)\n",
      "Requirement already satisfied: attrs>=19.2.0 in c:\\users\\wrash-tech\\anaconda3\\lib\\site-packages (from fiona>=1.8.19->geopandas) (21.2.0)\n",
      "Requirement already satisfied: click~=8.0 in c:\\users\\wrash-tech\\anaconda3\\lib\\site-packages (from fiona>=1.8.19->geopandas) (8.0.3)\n",
      "Requirement already satisfied: importlib-metadata in c:\\users\\wrash-tech\\anaconda3\\lib\\site-packages (from fiona>=1.8.19->geopandas) (4.8.1)\n",
      "Requirement already satisfied: click-plugins>=1.0 in c:\\users\\wrash-tech\\anaconda3\\lib\\site-packages (from fiona>=1.8.19->geopandas) (1.1.1)\n",
      "Requirement already satisfied: certifi in c:\\users\\wrash-tech\\appdata\\roaming\\python\\python39\\site-packages (from fiona>=1.8.19->geopandas) (2022.12.7)\n",
      "Requirement already satisfied: colorama in c:\\users\\wrash-tech\\anaconda3\\lib\\site-packages (from click~=8.0->fiona>=1.8.19->geopandas) (0.3.9)\n",
      "Requirement already satisfied: numpy>=1.17.3 in c:\\users\\wrash-tech\\anaconda3\\lib\\site-packages (from pandas>=1.1.0->geopandas) (1.20.3)\n",
      "Requirement already satisfied: pytz>=2017.3 in c:\\users\\wrash-tech\\anaconda3\\lib\\site-packages (from pandas>=1.1.0->geopandas) (2022.7.1)\n",
      "Requirement already satisfied: python-dateutil>=2.7.3 in c:\\users\\wrash-tech\\appdata\\roaming\\python\\python39\\site-packages (from pandas>=1.1.0->geopandas) (2.8.2)\n",
      "Requirement already satisfied: zipp>=0.5 in c:\\users\\wrash-tech\\anaconda3\\lib\\site-packages (from importlib-metadata->fiona>=1.8.19->geopandas) (3.6.0)\n",
      "Requirement already satisfied: pyparsing>=2.0.2 in c:\\users\\wrash-tech\\anaconda3\\lib\\site-packages (from packaging->geopandas) (3.0.4)\n",
      "Installing collected packages: fiona\n",
      "Successfully installed fiona-1.9.4.post1\n",
      "Found existing installation: Fiona 1.9.4.post1\n",
      "Uninstalling Fiona-1.9.4.post1:\n",
      "  Successfully uninstalled Fiona-1.9.4.post1\n"
     ]
    },
    {
     "name": "stderr",
     "output_type": "stream",
     "text": [
      "    ERROR: Command errored out with exit status 1:\n",
      "     command: 'C:\\Users\\WRASH-TECH\\anaconda3\\python.exe' -c 'import io, os, sys, setuptools, tokenize; sys.argv[0] = '\"'\"'C:\\\\Users\\\\WRASH-TECH\\\\AppData\\\\Local\\\\Temp\\\\pip-install-ourtgqok\\\\fiona_bd3fe3524f024880a18886f92b85311a\\\\setup.py'\"'\"'; __file__='\"'\"'C:\\\\Users\\\\WRASH-TECH\\\\AppData\\\\Local\\\\Temp\\\\pip-install-ourtgqok\\\\fiona_bd3fe3524f024880a18886f92b85311a\\\\setup.py'\"'\"';f = getattr(tokenize, '\"'\"'open'\"'\"', open)(__file__) if os.path.exists(__file__) else io.StringIO('\"'\"'from setuptools import setup; setup()'\"'\"');code = f.read().replace('\"'\"'\\r\\n'\"'\"', '\"'\"'\\n'\"'\"');f.close();exec(compile(code, __file__, '\"'\"'exec'\"'\"'))' egg_info --egg-base 'C:\\Users\\WRASH-TECH\\AppData\\Local\\Temp\\pip-pip-egg-info-ug7fluzj'\n",
      "         cwd: C:\\Users\\WRASH-TECH\\AppData\\Local\\Temp\\pip-install-ourtgqok\\fiona_bd3fe3524f024880a18886f92b85311a\\\n",
      "    Complete output (1 lines):\n",
      "    A GDAL API version must be specified. Provide a path to gdal-config using a GDAL_CONFIG environment variable or use a GDAL_VERSION environment variable."
     ]
    },
    {
     "name": "stdout",
     "output_type": "stream",
     "text": [
      "Collecting Fiona==1.8\n",
      "  Using cached Fiona-1.8.0.tar.gz (1.4 MB)\n"
     ]
    },
    {
     "name": "stderr",
     "output_type": "stream",
     "text": [
      "\n",
      "    ----------------------------------------\n",
      "WARNING: Discarding https://files.pythonhosted.org/packages/2a/bd/c1efc2680f338e5941121c776d6323af6b9698ac739e22ba523cee348a7f/Fiona-1.8.0.tar.gz#sha256=20141a9ece06daa7bb4333fba640c2fe39a49f8aca5492d1da8595d41e91844a (from https://pypi.org/simple/fiona/). Command errored out with exit status 1: python setup.py egg_info Check the logs for full command output.\n",
      "ERROR: Could not find a version that satisfies the requirement Fiona==1.8 (from versions: 0.5, 0.6, 0.6.1, 0.6.2, 0.7, 0.8, 0.9, 0.9.1, 0.10, 0.12, 0.12.1, 0.13, 0.14, 0.15, 0.16, 0.16.1, 1.0, 1.0.1, 1.0.2, 1.0.3, 1.1, 1.1.1, 1.1.2, 1.1.3, 1.1.4, 1.1.5, 1.1.6, 1.2.0, 1.3.0, 1.4.0, 1.4.1, 1.4.2, 1.4.3, 1.4.4, 1.4.5, 1.4.6, 1.4.7, 1.4.8, 1.5.0, 1.5.1, 1.6.0, 1.6.1, 1.6.2, 1.6.3, 1.6.3.post1, 1.6.4, 1.7.0, 1.7.0.post2, 1.7.1, 1.7.1.post1, 1.7.2, 1.7.3, 1.7.4, 1.7.5, 1.7.6, 1.7.7, 1.7.8, 1.7.9, 1.7.9.post1, 1.7.10, 1.7.10.post1, 1.7.11, 1.7.11.post1, 1.7.11.post2, 1.7.12, 1.7.13, 1.8b1, 1.8b2, 1.8rc1, 1.8.0, 1.8.1, 1.8.2, 1.8.3, 1.8.4, 1.8.5, 1.8.6, 1.8.7, 1.8.8, 1.8.9, 1.8.9.post1, 1.8.9.post2, 1.8.10, 1.8.11, 1.8.12, 1.8.13, 1.8.13.post1, 1.8.14, 1.8.15, 1.8.16, 1.8.17, 1.8.18, 1.8.19, 1.8.20, 1.8.21, 1.8.22, 1.9a1, 1.9a2, 1.9a3, 1.9b1, 1.9b2, 1.9.0, 1.9.1, 1.9.2, 1.9.3, 1.9.4, 1.9.4.post1)\n",
      "ERROR: No matching distribution found for Fiona==1.8\n",
      "'install' is not recognized as an internal or external command,\n",
      "operable program or batch file.\n"
     ]
    }
   ],
   "source": [
    "!pip install geopandas\n",
    "!pip uninstall Fiona==1.9 --yes\n",
    "!pip install Fiona==1.8\n",
    "!install xgboost"
   ]
  },
  {
   "cell_type": "code",
   "execution_count": 1,
   "id": "f58ffd1b",
   "metadata": {},
   "outputs": [],
   "source": [
    "import pandas as pd\n",
    "import numpy as np\n",
    "import matplotlib.pyplot as plt\n",
    "import seaborn as sns\n",
    "from sklearn.model_selection import train_test_split\n",
    "from sklearn.preprocessing import LabelEncoder, StandardScaler\n",
    "from sklearn.ensemble import RandomForestClassifier\n",
    "from sklearn.metrics import  accuracy_score, precision_score, recall_score, roc_auc_score, classification_report, f1_score, confusion_matrix\n",
    "from sklearn.datasets import make_classification\n",
    "from sklearn.neighbors import KNeighborsClassifier\n",
    "from sklearn.tree import DecisionTreeClassifier\n",
    "from sklearn.naive_bayes import MultinomialNB\n",
    "from sklearn.feature_extraction.text import TfidfVectorizer\n",
    "from sklearn.model_selection import GridSearchCV\n",
    "from sklearn.model_selection import train_test_split, StratifiedKFold, cross_val_score\n",
    "from sklearn.svm import SVC, LinearSVC\n",
    "from sklearn.pipeline import make_pipeline, Pipeline\n",
    "from sklearn.ensemble import RandomForestClassifier\n",
    "import geopandas as gpd\n",
    "from shapely.geometry import  Point\n",
    "import xgboost as xgb"
   ]
  },
  {
   "cell_type": "code",
   "execution_count": 2,
   "id": "160eaf8c",
   "metadata": {},
   "outputs": [],
   "source": [
    "df = pd.read_csv(\"San_Francisco_Crime.csv\")"
   ]
  },
  {
   "cell_type": "code",
   "execution_count": 3,
   "id": "48e84899",
   "metadata": {},
   "outputs": [
    {
     "data": {
      "text/html": [
       "<div>\n",
       "<style scoped>\n",
       "    .dataframe tbody tr th:only-of-type {\n",
       "        vertical-align: middle;\n",
       "    }\n",
       "\n",
       "    .dataframe tbody tr th {\n",
       "        vertical-align: top;\n",
       "    }\n",
       "\n",
       "    .dataframe thead th {\n",
       "        text-align: right;\n",
       "    }\n",
       "</style>\n",
       "<table border=\"1\" class=\"dataframe\">\n",
       "  <thead>\n",
       "    <tr style=\"text-align: right;\">\n",
       "      <th></th>\n",
       "      <th>Dates</th>\n",
       "      <th>Category</th>\n",
       "      <th>Descript</th>\n",
       "      <th>DayOfWeek</th>\n",
       "      <th>PdDistrict</th>\n",
       "      <th>Resolution</th>\n",
       "      <th>Address</th>\n",
       "      <th>X</th>\n",
       "      <th>Y</th>\n",
       "    </tr>\n",
       "  </thead>\n",
       "  <tbody>\n",
       "    <tr>\n",
       "      <th>0</th>\n",
       "      <td>2015-05-13 23:53:00</td>\n",
       "      <td>WARRANTS</td>\n",
       "      <td>WARRANT ARREST</td>\n",
       "      <td>Wednesday</td>\n",
       "      <td>NORTHERN</td>\n",
       "      <td>ARREST, BOOKED</td>\n",
       "      <td>OAK ST / LAGUNA ST</td>\n",
       "      <td>-122.425892</td>\n",
       "      <td>37.774599</td>\n",
       "    </tr>\n",
       "    <tr>\n",
       "      <th>1</th>\n",
       "      <td>2015-05-13 23:53:00</td>\n",
       "      <td>OTHER OFFENSES</td>\n",
       "      <td>TRAFFIC VIOLATION ARREST</td>\n",
       "      <td>Wednesday</td>\n",
       "      <td>NORTHERN</td>\n",
       "      <td>ARREST, BOOKED</td>\n",
       "      <td>OAK ST / LAGUNA ST</td>\n",
       "      <td>-122.425892</td>\n",
       "      <td>37.774599</td>\n",
       "    </tr>\n",
       "    <tr>\n",
       "      <th>2</th>\n",
       "      <td>2015-05-13 23:33:00</td>\n",
       "      <td>OTHER OFFENSES</td>\n",
       "      <td>TRAFFIC VIOLATION ARREST</td>\n",
       "      <td>Wednesday</td>\n",
       "      <td>NORTHERN</td>\n",
       "      <td>ARREST, BOOKED</td>\n",
       "      <td>VANNESS AV / GREENWICH ST</td>\n",
       "      <td>-122.424363</td>\n",
       "      <td>37.800414</td>\n",
       "    </tr>\n",
       "    <tr>\n",
       "      <th>3</th>\n",
       "      <td>2015-05-13 23:30:00</td>\n",
       "      <td>LARCENY/THEFT</td>\n",
       "      <td>GRAND THEFT FROM LOCKED AUTO</td>\n",
       "      <td>Wednesday</td>\n",
       "      <td>NORTHERN</td>\n",
       "      <td>NONE</td>\n",
       "      <td>1500 Block of LOMBARD ST</td>\n",
       "      <td>-122.426995</td>\n",
       "      <td>37.800873</td>\n",
       "    </tr>\n",
       "    <tr>\n",
       "      <th>4</th>\n",
       "      <td>2015-05-13 23:30:00</td>\n",
       "      <td>LARCENY/THEFT</td>\n",
       "      <td>GRAND THEFT FROM LOCKED AUTO</td>\n",
       "      <td>Wednesday</td>\n",
       "      <td>PARK</td>\n",
       "      <td>NONE</td>\n",
       "      <td>100 Block of BRODERICK ST</td>\n",
       "      <td>-122.438738</td>\n",
       "      <td>37.771541</td>\n",
       "    </tr>\n",
       "  </tbody>\n",
       "</table>\n",
       "</div>"
      ],
      "text/plain": [
       "                 Dates        Category                      Descript  \\\n",
       "0  2015-05-13 23:53:00        WARRANTS                WARRANT ARREST   \n",
       "1  2015-05-13 23:53:00  OTHER OFFENSES      TRAFFIC VIOLATION ARREST   \n",
       "2  2015-05-13 23:33:00  OTHER OFFENSES      TRAFFIC VIOLATION ARREST   \n",
       "3  2015-05-13 23:30:00   LARCENY/THEFT  GRAND THEFT FROM LOCKED AUTO   \n",
       "4  2015-05-13 23:30:00   LARCENY/THEFT  GRAND THEFT FROM LOCKED AUTO   \n",
       "\n",
       "   DayOfWeek PdDistrict      Resolution                    Address  \\\n",
       "0  Wednesday   NORTHERN  ARREST, BOOKED         OAK ST / LAGUNA ST   \n",
       "1  Wednesday   NORTHERN  ARREST, BOOKED         OAK ST / LAGUNA ST   \n",
       "2  Wednesday   NORTHERN  ARREST, BOOKED  VANNESS AV / GREENWICH ST   \n",
       "3  Wednesday   NORTHERN            NONE   1500 Block of LOMBARD ST   \n",
       "4  Wednesday       PARK            NONE  100 Block of BRODERICK ST   \n",
       "\n",
       "            X          Y  \n",
       "0 -122.425892  37.774599  \n",
       "1 -122.425892  37.774599  \n",
       "2 -122.424363  37.800414  \n",
       "3 -122.426995  37.800873  \n",
       "4 -122.438738  37.771541  "
      ]
     },
     "execution_count": 3,
     "metadata": {},
     "output_type": "execute_result"
    }
   ],
   "source": [
    "df.head()"
   ]
  },
  {
   "cell_type": "code",
   "execution_count": 4,
   "id": "97a1b6f1",
   "metadata": {},
   "outputs": [
    {
     "data": {
      "text/html": [
       "<div>\n",
       "<style scoped>\n",
       "    .dataframe tbody tr th:only-of-type {\n",
       "        vertical-align: middle;\n",
       "    }\n",
       "\n",
       "    .dataframe tbody tr th {\n",
       "        vertical-align: top;\n",
       "    }\n",
       "\n",
       "    .dataframe thead th {\n",
       "        text-align: right;\n",
       "    }\n",
       "</style>\n",
       "<table border=\"1\" class=\"dataframe\">\n",
       "  <thead>\n",
       "    <tr style=\"text-align: right;\">\n",
       "      <th></th>\n",
       "      <th>Dates</th>\n",
       "      <th>Category</th>\n",
       "      <th>Descript</th>\n",
       "      <th>DayOfWeek</th>\n",
       "      <th>PdDistrict</th>\n",
       "      <th>Resolution</th>\n",
       "      <th>Address</th>\n",
       "      <th>X</th>\n",
       "      <th>Y</th>\n",
       "    </tr>\n",
       "  </thead>\n",
       "  <tbody>\n",
       "    <tr>\n",
       "      <th>878044</th>\n",
       "      <td>2003-01-06 00:15:00</td>\n",
       "      <td>ROBBERY</td>\n",
       "      <td>ROBBERY ON THE STREET WITH A GUN</td>\n",
       "      <td>Monday</td>\n",
       "      <td>TARAVAL</td>\n",
       "      <td>NONE</td>\n",
       "      <td>FARALLONES ST / CAPITOL AV</td>\n",
       "      <td>-122.459033</td>\n",
       "      <td>37.714056</td>\n",
       "    </tr>\n",
       "    <tr>\n",
       "      <th>878045</th>\n",
       "      <td>2003-01-06 00:01:00</td>\n",
       "      <td>LARCENY/THEFT</td>\n",
       "      <td>GRAND THEFT FROM LOCKED AUTO</td>\n",
       "      <td>Monday</td>\n",
       "      <td>INGLESIDE</td>\n",
       "      <td>NONE</td>\n",
       "      <td>600 Block of EDNA ST</td>\n",
       "      <td>-122.447364</td>\n",
       "      <td>37.731948</td>\n",
       "    </tr>\n",
       "    <tr>\n",
       "      <th>878046</th>\n",
       "      <td>2003-01-06 00:01:00</td>\n",
       "      <td>LARCENY/THEFT</td>\n",
       "      <td>GRAND THEFT FROM LOCKED AUTO</td>\n",
       "      <td>Monday</td>\n",
       "      <td>SOUTHERN</td>\n",
       "      <td>NONE</td>\n",
       "      <td>5TH ST / FOLSOM ST</td>\n",
       "      <td>-122.403390</td>\n",
       "      <td>37.780266</td>\n",
       "    </tr>\n",
       "    <tr>\n",
       "      <th>878047</th>\n",
       "      <td>2003-01-06 00:01:00</td>\n",
       "      <td>VANDALISM</td>\n",
       "      <td>MALICIOUS MISCHIEF, VANDALISM OF VEHICLES</td>\n",
       "      <td>Monday</td>\n",
       "      <td>SOUTHERN</td>\n",
       "      <td>NONE</td>\n",
       "      <td>TOWNSEND ST / 2ND ST</td>\n",
       "      <td>-122.390531</td>\n",
       "      <td>37.780607</td>\n",
       "    </tr>\n",
       "    <tr>\n",
       "      <th>878048</th>\n",
       "      <td>2003-01-06 00:01:00</td>\n",
       "      <td>FORGERY/COUNTERFEITING</td>\n",
       "      <td>CHECKS, FORGERY (FELONY)</td>\n",
       "      <td>Monday</td>\n",
       "      <td>BAYVIEW</td>\n",
       "      <td>NONE</td>\n",
       "      <td>1800 Block of NEWCOMB AV</td>\n",
       "      <td>-122.394926</td>\n",
       "      <td>37.738212</td>\n",
       "    </tr>\n",
       "  </tbody>\n",
       "</table>\n",
       "</div>"
      ],
      "text/plain": [
       "                      Dates                Category  \\\n",
       "878044  2003-01-06 00:15:00                 ROBBERY   \n",
       "878045  2003-01-06 00:01:00           LARCENY/THEFT   \n",
       "878046  2003-01-06 00:01:00           LARCENY/THEFT   \n",
       "878047  2003-01-06 00:01:00               VANDALISM   \n",
       "878048  2003-01-06 00:01:00  FORGERY/COUNTERFEITING   \n",
       "\n",
       "                                         Descript DayOfWeek PdDistrict  \\\n",
       "878044           ROBBERY ON THE STREET WITH A GUN    Monday    TARAVAL   \n",
       "878045               GRAND THEFT FROM LOCKED AUTO    Monday  INGLESIDE   \n",
       "878046               GRAND THEFT FROM LOCKED AUTO    Monday   SOUTHERN   \n",
       "878047  MALICIOUS MISCHIEF, VANDALISM OF VEHICLES    Monday   SOUTHERN   \n",
       "878048                   CHECKS, FORGERY (FELONY)    Monday    BAYVIEW   \n",
       "\n",
       "       Resolution                     Address           X          Y  \n",
       "878044       NONE  FARALLONES ST / CAPITOL AV -122.459033  37.714056  \n",
       "878045       NONE        600 Block of EDNA ST -122.447364  37.731948  \n",
       "878046       NONE          5TH ST / FOLSOM ST -122.403390  37.780266  \n",
       "878047       NONE        TOWNSEND ST / 2ND ST -122.390531  37.780607  \n",
       "878048       NONE    1800 Block of NEWCOMB AV -122.394926  37.738212  "
      ]
     },
     "execution_count": 4,
     "metadata": {},
     "output_type": "execute_result"
    }
   ],
   "source": [
    "df.tail()"
   ]
  },
  {
   "cell_type": "code",
   "execution_count": 5,
   "id": "d302a539",
   "metadata": {},
   "outputs": [
    {
     "data": {
      "text/html": [
       "<div>\n",
       "<style scoped>\n",
       "    .dataframe tbody tr th:only-of-type {\n",
       "        vertical-align: middle;\n",
       "    }\n",
       "\n",
       "    .dataframe tbody tr th {\n",
       "        vertical-align: top;\n",
       "    }\n",
       "\n",
       "    .dataframe thead th {\n",
       "        text-align: right;\n",
       "    }\n",
       "</style>\n",
       "<table border=\"1\" class=\"dataframe\">\n",
       "  <thead>\n",
       "    <tr style=\"text-align: right;\">\n",
       "      <th></th>\n",
       "      <th>X</th>\n",
       "      <th>Y</th>\n",
       "    </tr>\n",
       "  </thead>\n",
       "  <tbody>\n",
       "    <tr>\n",
       "      <th>count</th>\n",
       "      <td>878049.000000</td>\n",
       "      <td>878049.000000</td>\n",
       "    </tr>\n",
       "    <tr>\n",
       "      <th>mean</th>\n",
       "      <td>-122.422616</td>\n",
       "      <td>37.771020</td>\n",
       "    </tr>\n",
       "    <tr>\n",
       "      <th>std</th>\n",
       "      <td>0.030354</td>\n",
       "      <td>0.456893</td>\n",
       "    </tr>\n",
       "    <tr>\n",
       "      <th>min</th>\n",
       "      <td>-122.513642</td>\n",
       "      <td>37.707879</td>\n",
       "    </tr>\n",
       "    <tr>\n",
       "      <th>25%</th>\n",
       "      <td>-122.432952</td>\n",
       "      <td>37.752427</td>\n",
       "    </tr>\n",
       "    <tr>\n",
       "      <th>50%</th>\n",
       "      <td>-122.416420</td>\n",
       "      <td>37.775421</td>\n",
       "    </tr>\n",
       "    <tr>\n",
       "      <th>75%</th>\n",
       "      <td>-122.406959</td>\n",
       "      <td>37.784369</td>\n",
       "    </tr>\n",
       "    <tr>\n",
       "      <th>max</th>\n",
       "      <td>-120.500000</td>\n",
       "      <td>90.000000</td>\n",
       "    </tr>\n",
       "  </tbody>\n",
       "</table>\n",
       "</div>"
      ],
      "text/plain": [
       "                   X              Y\n",
       "count  878049.000000  878049.000000\n",
       "mean     -122.422616      37.771020\n",
       "std         0.030354       0.456893\n",
       "min      -122.513642      37.707879\n",
       "25%      -122.432952      37.752427\n",
       "50%      -122.416420      37.775421\n",
       "75%      -122.406959      37.784369\n",
       "max      -120.500000      90.000000"
      ]
     },
     "execution_count": 5,
     "metadata": {},
     "output_type": "execute_result"
    }
   ],
   "source": [
    "df.describe()"
   ]
  },
  {
   "cell_type": "code",
   "execution_count": 6,
   "id": "d2683bd7",
   "metadata": {},
   "outputs": [
    {
     "data": {
      "text/html": [
       "<div>\n",
       "<style scoped>\n",
       "    .dataframe tbody tr th:only-of-type {\n",
       "        vertical-align: middle;\n",
       "    }\n",
       "\n",
       "    .dataframe tbody tr th {\n",
       "        vertical-align: top;\n",
       "    }\n",
       "\n",
       "    .dataframe thead th {\n",
       "        text-align: right;\n",
       "    }\n",
       "</style>\n",
       "<table border=\"1\" class=\"dataframe\">\n",
       "  <thead>\n",
       "    <tr style=\"text-align: right;\">\n",
       "      <th></th>\n",
       "      <th>Dates</th>\n",
       "      <th>Category</th>\n",
       "      <th>Descript</th>\n",
       "      <th>DayOfWeek</th>\n",
       "      <th>PdDistrict</th>\n",
       "      <th>Resolution</th>\n",
       "      <th>Address</th>\n",
       "      <th>X</th>\n",
       "      <th>Y</th>\n",
       "    </tr>\n",
       "  </thead>\n",
       "  <tbody>\n",
       "    <tr>\n",
       "      <th>428160</th>\n",
       "      <td>2009-05-01 08:29:00</td>\n",
       "      <td>OTHER OFFENSES</td>\n",
       "      <td>VIOLATION OF RESTRAINING ORDER</td>\n",
       "      <td>Friday</td>\n",
       "      <td>SOUTHERN</td>\n",
       "      <td>ARREST, BOOKED</td>\n",
       "      <td>1000 Block of MARKET ST</td>\n",
       "      <td>-122.411340</td>\n",
       "      <td>37.781271</td>\n",
       "    </tr>\n",
       "    <tr>\n",
       "      <th>293426</th>\n",
       "      <td>2011-05-06 08:20:00</td>\n",
       "      <td>ASSAULT</td>\n",
       "      <td>THREATS AGAINST LIFE</td>\n",
       "      <td>Friday</td>\n",
       "      <td>BAYVIEW</td>\n",
       "      <td>NONE</td>\n",
       "      <td>0 Block of POMONA ST</td>\n",
       "      <td>-122.393512</td>\n",
       "      <td>37.731745</td>\n",
       "    </tr>\n",
       "    <tr>\n",
       "      <th>413544</th>\n",
       "      <td>2009-07-23 23:34:00</td>\n",
       "      <td>NON-CRIMINAL</td>\n",
       "      <td>AIDED CASE, MENTAL DISTURBED</td>\n",
       "      <td>Thursday</td>\n",
       "      <td>PARK</td>\n",
       "      <td>PSYCHOPATHIC CASE</td>\n",
       "      <td>2100 Block of HAYES ST</td>\n",
       "      <td>-122.451826</td>\n",
       "      <td>37.773263</td>\n",
       "    </tr>\n",
       "    <tr>\n",
       "      <th>455105</th>\n",
       "      <td>2008-12-11 21:09:00</td>\n",
       "      <td>ASSAULT</td>\n",
       "      <td>AGGRAVATED ASSAULT WITH A DEADLY WEAPON</td>\n",
       "      <td>Thursday</td>\n",
       "      <td>PARK</td>\n",
       "      <td>NONE</td>\n",
       "      <td>CARL ST / COLE ST</td>\n",
       "      <td>-122.449958</td>\n",
       "      <td>37.765800</td>\n",
       "    </tr>\n",
       "    <tr>\n",
       "      <th>454237</th>\n",
       "      <td>2008-12-14 11:21:00</td>\n",
       "      <td>OTHER OFFENSES</td>\n",
       "      <td>MISCELLANEOUS INVESTIGATION</td>\n",
       "      <td>Sunday</td>\n",
       "      <td>INGLESIDE</td>\n",
       "      <td>NONE</td>\n",
       "      <td>1600 Block of SUNNYDALE AV</td>\n",
       "      <td>-122.417145</td>\n",
       "      <td>37.712150</td>\n",
       "    </tr>\n",
       "  </tbody>\n",
       "</table>\n",
       "</div>"
      ],
      "text/plain": [
       "                      Dates        Category  \\\n",
       "428160  2009-05-01 08:29:00  OTHER OFFENSES   \n",
       "293426  2011-05-06 08:20:00         ASSAULT   \n",
       "413544  2009-07-23 23:34:00    NON-CRIMINAL   \n",
       "455105  2008-12-11 21:09:00         ASSAULT   \n",
       "454237  2008-12-14 11:21:00  OTHER OFFENSES   \n",
       "\n",
       "                                       Descript DayOfWeek PdDistrict  \\\n",
       "428160           VIOLATION OF RESTRAINING ORDER    Friday   SOUTHERN   \n",
       "293426                     THREATS AGAINST LIFE    Friday    BAYVIEW   \n",
       "413544             AIDED CASE, MENTAL DISTURBED  Thursday       PARK   \n",
       "455105  AGGRAVATED ASSAULT WITH A DEADLY WEAPON  Thursday       PARK   \n",
       "454237              MISCELLANEOUS INVESTIGATION    Sunday  INGLESIDE   \n",
       "\n",
       "               Resolution                     Address           X          Y  \n",
       "428160     ARREST, BOOKED     1000 Block of MARKET ST -122.411340  37.781271  \n",
       "293426               NONE        0 Block of POMONA ST -122.393512  37.731745  \n",
       "413544  PSYCHOPATHIC CASE      2100 Block of HAYES ST -122.451826  37.773263  \n",
       "455105               NONE           CARL ST / COLE ST -122.449958  37.765800  \n",
       "454237               NONE  1600 Block of SUNNYDALE AV -122.417145  37.712150  "
      ]
     },
     "execution_count": 6,
     "metadata": {},
     "output_type": "execute_result"
    }
   ],
   "source": [
    "df.sample(5)"
   ]
  },
  {
   "cell_type": "code",
   "execution_count": 7,
   "id": "4accf44a",
   "metadata": {},
   "outputs": [
    {
     "data": {
      "text/plain": [
       "(878049, 9)"
      ]
     },
     "execution_count": 7,
     "metadata": {},
     "output_type": "execute_result"
    }
   ],
   "source": [
    "df.shape"
   ]
  },
  {
   "cell_type": "code",
   "execution_count": 8,
   "id": "63be7b70",
   "metadata": {},
   "outputs": [
    {
     "data": {
      "text/plain": [
       "LARCENY/THEFT                  174900\n",
       "OTHER OFFENSES                 126182\n",
       "NON-CRIMINAL                    92304\n",
       "ASSAULT                         76876\n",
       "DRUG/NARCOTIC                   53971\n",
       "VEHICLE THEFT                   53781\n",
       "VANDALISM                       44725\n",
       "WARRANTS                        42214\n",
       "BURGLARY                        36755\n",
       "SUSPICIOUS OCC                  31414\n",
       "MISSING PERSON                  25989\n",
       "ROBBERY                         23000\n",
       "FRAUD                           16679\n",
       "FORGERY/COUNTERFEITING          10609\n",
       "SECONDARY CODES                  9985\n",
       "WEAPON LAWS                      8555\n",
       "PROSTITUTION                     7484\n",
       "TRESPASS                         7326\n",
       "STOLEN PROPERTY                  4540\n",
       "SEX OFFENSES FORCIBLE            4388\n",
       "DISORDERLY CONDUCT               4320\n",
       "DRUNKENNESS                      4280\n",
       "RECOVERED VEHICLE                3138\n",
       "KIDNAPPING                       2341\n",
       "DRIVING UNDER THE INFLUENCE      2268\n",
       "RUNAWAY                          1946\n",
       "LIQUOR LAWS                      1903\n",
       "ARSON                            1513\n",
       "LOITERING                        1225\n",
       "EMBEZZLEMENT                     1166\n",
       "SUICIDE                           508\n",
       "FAMILY OFFENSES                   491\n",
       "BAD CHECKS                        406\n",
       "BRIBERY                           289\n",
       "EXTORTION                         256\n",
       "SEX OFFENSES NON FORCIBLE         148\n",
       "GAMBLING                          146\n",
       "PORNOGRAPHY/OBSCENE MAT            22\n",
       "TREA                                6\n",
       "Name: Category, dtype: int64"
      ]
     },
     "execution_count": 8,
     "metadata": {},
     "output_type": "execute_result"
    }
   ],
   "source": [
    "df.Category.value_counts()"
   ]
  },
  {
   "cell_type": "code",
   "execution_count": 9,
   "id": "426744ee",
   "metadata": {},
   "outputs": [
    {
     "data": {
      "text/plain": [
       "NONE                                      526790\n",
       "ARREST, BOOKED                            206403\n",
       "ARREST, CITED                              77004\n",
       "LOCATED                                    17101\n",
       "PSYCHOPATHIC CASE                          14534\n",
       "UNFOUNDED                                   9585\n",
       "JUVENILE BOOKED                             5564\n",
       "COMPLAINANT REFUSES TO PROSECUTE            3976\n",
       "DISTRICT ATTORNEY REFUSES TO PROSECUTE      3934\n",
       "NOT PROSECUTED                              3714\n",
       "JUVENILE CITED                              3332\n",
       "PROSECUTED BY OUTSIDE AGENCY                2504\n",
       "EXCEPTIONAL CLEARANCE                       1530\n",
       "JUVENILE ADMONISHED                         1455\n",
       "JUVENILE DIVERTED                            355\n",
       "CLEARED-CONTACT JUVENILE FOR MORE INFO       217\n",
       "PROSECUTED FOR LESSER OFFENSE                 51\n",
       "Name: Resolution, dtype: int64"
      ]
     },
     "execution_count": 9,
     "metadata": {},
     "output_type": "execute_result"
    }
   ],
   "source": [
    "# need for data encoding\n",
    "df.Resolution.value_counts()"
   ]
  },
  {
   "cell_type": "code",
   "execution_count": 10,
   "id": "64ec0523",
   "metadata": {},
   "outputs": [
    {
     "data": {
      "text/plain": [
       "SOUTHERN      157182\n",
       "MISSION       119908\n",
       "NORTHERN      105296\n",
       "BAYVIEW        89431\n",
       "CENTRAL        85460\n",
       "TENDERLOIN     81809\n",
       "INGLESIDE      78845\n",
       "TARAVAL        65596\n",
       "PARK           49313\n",
       "RICHMOND       45209\n",
       "Name: PdDistrict, dtype: int64"
      ]
     },
     "execution_count": 10,
     "metadata": {},
     "output_type": "execute_result"
    }
   ],
   "source": [
    "# need for data encoding\n",
    "df.PdDistrict.value_counts()"
   ]
  },
  {
   "cell_type": "code",
   "execution_count": 11,
   "id": "239aecab",
   "metadata": {},
   "outputs": [
    {
     "data": {
      "image/png": "[encoded data removed]",
      "text/plain": [
       "<Figure size 1440x864 with 1 Axes>"
      ]
     },
     "metadata": {
      "needs_background": "light"
     },
     "output_type": "display_data"
    }
   ],
   "source": [
    "kind = df['Category'].value_counts()\n",
    "\n",
    "kind.plot(kind=\"barh\",figsize=(20,12),  color='g')\n",
    "\n",
    "plt.ylabel('Crime',fontsize=15)\n",
    "plt.xlabel('Rate',fontsize=15)\n",
    "plt.title('Crime Rating',fontsize=25)\n",
    "plt.show()"
   ]
  },
  {
   "cell_type": "code",
   "execution_count": 12,
   "id": "4f74380b",
   "metadata": {},
   "outputs": [
    {
     "data": {
      "text/plain": [
       "<seaborn.axisgrid.PairGrid at 0x1afbb2838b0>"
      ]
     },
     "execution_count": 12,
     "metadata": {},
     "output_type": "execute_result"
    },
    {
     "data": {
      "image/png": "[encoded data removed]",
      "text/plain": [
       "<Figure size 558.75x360 with 6 Axes>"
      ]
     },
     "metadata": {
      "needs_background": "light"
     },
     "output_type": "display_data"
    }
   ],
   "source": [
    "sns.pairplot(df, hue='Category')"
   ]
  },
  {
   "cell_type": "code",
   "execution_count": 13,
   "id": "13e993ea",
   "metadata": {},
   "outputs": [
    {
     "data": {
      "text/plain": [
       "GRAND THEFT FROM LOCKED AUTO                              60022\n",
       "LOST PROPERTY                                             31729\n",
       "BATTERY                                                   27441\n",
       "STOLEN AUTOMOBILE                                         26897\n",
       "DRIVERS LICENSE, SUSPENDED OR REVOKED                     26839\n",
       "                                                          ...  \n",
       "ENCOURAGE MINOR TO USE CONTROLLED SUBSTANCE                   1\n",
       "BIGAMY, INCEST, AND THE CRIME AGAINST NATURE (GENERAL)        1\n",
       "DISTURBANCE OF NON-RELIGIOUS, NON-POLITICAL ASSEMBLY          1\n",
       "CABLE TV CONNECTION OR DECODING DEVICE, UNAUTHORIZED          1\n",
       "EMBEZZLEMENT, GRAND THEFT PUBLIC/PRIVATE OFFICIAL             1\n",
       "Name: Descript, Length: 879, dtype: int64"
      ]
     },
     "execution_count": 13,
     "metadata": {},
     "output_type": "execute_result"
    }
   ],
   "source": [
    "# need for data encoding\n",
    "df.Descript.value_counts()"
   ]
  },
  {
   "cell_type": "code",
   "execution_count": 14,
   "id": "1d0cd18d",
   "metadata": {},
   "outputs": [
    {
     "data": {
      "text/plain": [
       "800 Block of BRYANT ST           26533\n",
       "800 Block of MARKET ST            6581\n",
       "2000 Block of MISSION ST          5097\n",
       "1000 Block of POTRERO AV          4063\n",
       "900 Block of MARKET ST            3251\n",
       "                                 ...  \n",
       "PRECITA AV / CESAR CHAVEZ ST         1\n",
       "0 Block of COLUSA PL                 1\n",
       "2800 Block of KEITH ST               1\n",
       "CABRILLO ST / ARGUELLO BL            1\n",
       "OFARRELL ST / CYRIL MAGNIN ST        1\n",
       "Name: Address, Length: 23228, dtype: int64"
      ]
     },
     "execution_count": 14,
     "metadata": {},
     "output_type": "execute_result"
    }
   ],
   "source": [
    "# need for data encoding\n",
    "df.Address.value_counts()"
   ]
  },
  {
   "cell_type": "code",
   "execution_count": 15,
   "id": "463a3a21",
   "metadata": {},
   "outputs": [
    {
     "name": "stderr",
     "output_type": "stream",
     "text": [
      "C:\\Users\\WRASH-~1\\AppData\\Local\\Temp/ipykernel_13000/951775591.py:5: DeprecationWarning: Converting `np.inexact` or `np.floating` to a dtype is deprecated. The current result is `float64` which is not strictly correct.\n",
      "  if df[col].dtype != np.number:\n",
      "C:\\Users\\WRASH-~1\\AppData\\Local\\Temp/ipykernel_13000/951775591.py:5: DeprecationWarning: Converting `np.inexact` or `np.floating` to a dtype is deprecated. The current result is `float64` which is not strictly correct.\n",
      "  if df[col].dtype != np.number:\n",
      "C:\\Users\\WRASH-~1\\AppData\\Local\\Temp/ipykernel_13000/951775591.py:5: DeprecationWarning: Converting `np.inexact` or `np.floating` to a dtype is deprecated. The current result is `float64` which is not strictly correct.\n",
      "  if df[col].dtype != np.number:\n",
      "C:\\Users\\WRASH-~1\\AppData\\Local\\Temp/ipykernel_13000/951775591.py:5: DeprecationWarning: Converting `np.inexact` or `np.floating` to a dtype is deprecated. The current result is `float64` which is not strictly correct.\n",
      "  if df[col].dtype != np.number:\n",
      "C:\\Users\\WRASH-~1\\AppData\\Local\\Temp/ipykernel_13000/951775591.py:5: DeprecationWarning: Converting `np.inexact` or `np.floating` to a dtype is deprecated. The current result is `float64` which is not strictly correct.\n",
      "  if df[col].dtype != np.number:\n",
      "C:\\Users\\WRASH-~1\\AppData\\Local\\Temp/ipykernel_13000/951775591.py:5: DeprecationWarning: Converting `np.inexact` or `np.floating` to a dtype is deprecated. The current result is `float64` which is not strictly correct.\n",
      "  if df[col].dtype != np.number:\n"
     ]
    }
   ],
   "source": [
    "# tranforming non numeric data to numeric\n",
    "data_to_encode = ['Category', 'Descript', 'DayOfWeek', 'PdDistrict', 'Address',\n",
    "       'Resolution' ]\n",
    "for col in data_to_encode:\n",
    "    if df[col].dtype != np.number:\n",
    "        df[col] = LabelEncoder().fit_transform(df[col])"
   ]
  },
  {
   "cell_type": "code",
   "execution_count": 16,
   "id": "a7f9582b",
   "metadata": {},
   "outputs": [
    {
     "data": {
      "text/html": [
       "<div>\n",
       "<style scoped>\n",
       "    .dataframe tbody tr th:only-of-type {\n",
       "        vertical-align: middle;\n",
       "    }\n",
       "\n",
       "    .dataframe tbody tr th {\n",
       "        vertical-align: top;\n",
       "    }\n",
       "\n",
       "    .dataframe thead th {\n",
       "        text-align: right;\n",
       "    }\n",
       "</style>\n",
       "<table border=\"1\" class=\"dataframe\">\n",
       "  <thead>\n",
       "    <tr style=\"text-align: right;\">\n",
       "      <th></th>\n",
       "      <th>Dates</th>\n",
       "      <th>Category</th>\n",
       "      <th>Descript</th>\n",
       "      <th>DayOfWeek</th>\n",
       "      <th>PdDistrict</th>\n",
       "      <th>Resolution</th>\n",
       "      <th>Address</th>\n",
       "      <th>X</th>\n",
       "      <th>Y</th>\n",
       "    </tr>\n",
       "  </thead>\n",
       "  <tbody>\n",
       "    <tr>\n",
       "      <th>0</th>\n",
       "      <td>2015-05-13 23:53:00</td>\n",
       "      <td>37</td>\n",
       "      <td>866</td>\n",
       "      <td>6</td>\n",
       "      <td>4</td>\n",
       "      <td>0</td>\n",
       "      <td>19790</td>\n",
       "      <td>-122.425892</td>\n",
       "      <td>37.774599</td>\n",
       "    </tr>\n",
       "    <tr>\n",
       "      <th>1</th>\n",
       "      <td>2015-05-13 23:53:00</td>\n",
       "      <td>21</td>\n",
       "      <td>810</td>\n",
       "      <td>6</td>\n",
       "      <td>4</td>\n",
       "      <td>0</td>\n",
       "      <td>19790</td>\n",
       "      <td>-122.425892</td>\n",
       "      <td>37.774599</td>\n",
       "    </tr>\n",
       "    <tr>\n",
       "      <th>2</th>\n",
       "      <td>2015-05-13 23:33:00</td>\n",
       "      <td>21</td>\n",
       "      <td>810</td>\n",
       "      <td>6</td>\n",
       "      <td>4</td>\n",
       "      <td>0</td>\n",
       "      <td>22697</td>\n",
       "      <td>-122.424363</td>\n",
       "      <td>37.800414</td>\n",
       "    </tr>\n",
       "    <tr>\n",
       "      <th>3</th>\n",
       "      <td>2015-05-13 23:30:00</td>\n",
       "      <td>16</td>\n",
       "      <td>404</td>\n",
       "      <td>6</td>\n",
       "      <td>4</td>\n",
       "      <td>11</td>\n",
       "      <td>4266</td>\n",
       "      <td>-122.426995</td>\n",
       "      <td>37.800873</td>\n",
       "    </tr>\n",
       "    <tr>\n",
       "      <th>4</th>\n",
       "      <td>2015-05-13 23:30:00</td>\n",
       "      <td>16</td>\n",
       "      <td>404</td>\n",
       "      <td>6</td>\n",
       "      <td>5</td>\n",
       "      <td>11</td>\n",
       "      <td>1843</td>\n",
       "      <td>-122.438738</td>\n",
       "      <td>37.771541</td>\n",
       "    </tr>\n",
       "  </tbody>\n",
       "</table>\n",
       "</div>"
      ],
      "text/plain": [
       "                 Dates  Category  Descript  DayOfWeek  PdDistrict  Resolution  \\\n",
       "0  2015-05-13 23:53:00        37       866          6           4           0   \n",
       "1  2015-05-13 23:53:00        21       810          6           4           0   \n",
       "2  2015-05-13 23:33:00        21       810          6           4           0   \n",
       "3  2015-05-13 23:30:00        16       404          6           4          11   \n",
       "4  2015-05-13 23:30:00        16       404          6           5          11   \n",
       "\n",
       "   Address           X          Y  \n",
       "0    19790 -122.425892  37.774599  \n",
       "1    19790 -122.425892  37.774599  \n",
       "2    22697 -122.424363  37.800414  \n",
       "3     4266 -122.426995  37.800873  \n",
       "4     1843 -122.438738  37.771541  "
      ]
     },
     "execution_count": 16,
     "metadata": {},
     "output_type": "execute_result"
    }
   ],
   "source": [
    "df.head()"
   ]
  },
  {
   "cell_type": "code",
   "execution_count": 17,
   "id": "8a5a0c76",
   "metadata": {},
   "outputs": [
    {
     "data": {
      "text/plain": [
       "Dates         False\n",
       "Category      False\n",
       "Descript      False\n",
       "DayOfWeek     False\n",
       "PdDistrict    False\n",
       "Resolution    False\n",
       "Address       False\n",
       "X             False\n",
       "Y             False\n",
       "dtype: bool"
      ]
     },
     "execution_count": 17,
     "metadata": {},
     "output_type": "execute_result"
    }
   ],
   "source": [
    "df.isna().any()"
   ]
  },
  {
   "cell_type": "code",
   "execution_count": 18,
   "id": "8131f37a",
   "metadata": {},
   "outputs": [
    {
     "data": {
      "text/plain": [
       "Index(['Dates', 'Category', 'Descript', 'DayOfWeek', 'PdDistrict',\n",
       "       'Resolution', 'Address', 'X', 'Y'],\n",
       "      dtype='object')"
      ]
     },
     "execution_count": 18,
     "metadata": {},
     "output_type": "execute_result"
    }
   ],
   "source": [
    "df.columns"
   ]
  },
  {
   "cell_type": "code",
   "execution_count": 19,
   "id": "e41b09a7",
   "metadata": {},
   "outputs": [],
   "source": [
    "df = df.drop(labels='Dates', axis=1)"
   ]
  },
  {
   "cell_type": "code",
   "execution_count": 20,
   "id": "2ec582a7",
   "metadata": {},
   "outputs": [
    {
     "name": "stdout",
     "output_type": "stream",
     "text": [
      "<class 'pandas.core.frame.DataFrame'>\n",
      "RangeIndex: 878049 entries, 0 to 878048\n",
      "Data columns (total 8 columns):\n",
      " #   Column      Non-Null Count   Dtype  \n",
      "---  ------      --------------   -----  \n",
      " 0   Category    878049 non-null  int32  \n",
      " 1   Descript    878049 non-null  int32  \n",
      " 2   DayOfWeek   878049 non-null  int32  \n",
      " 3   PdDistrict  878049 non-null  int32  \n",
      " 4   Resolution  878049 non-null  int32  \n",
      " 5   Address     878049 non-null  int32  \n",
      " 6   X           878049 non-null  float64\n",
      " 7   Y           878049 non-null  float64\n",
      "dtypes: float64(2), int32(6)\n",
      "memory usage: 33.5 MB\n"
     ]
    }
   ],
   "source": [
    "df.info()"
   ]
  },
  {
   "cell_type": "code",
   "execution_count": 21,
   "id": "9322010b",
   "metadata": {},
   "outputs": [
    {
     "data": {
      "text/plain": [
       "(878049, 8)"
      ]
     },
     "execution_count": 21,
     "metadata": {},
     "output_type": "execute_result"
    }
   ],
   "source": [
    "df.shape"
   ]
  },
  {
   "cell_type": "code",
   "execution_count": 22,
   "id": "7394a49d",
   "metadata": {},
   "outputs": [
    {
     "data": {
      "text/html": [
       "<div>\n",
       "<style scoped>\n",
       "    .dataframe tbody tr th:only-of-type {\n",
       "        vertical-align: middle;\n",
       "    }\n",
       "\n",
       "    .dataframe tbody tr th {\n",
       "        vertical-align: top;\n",
       "    }\n",
       "\n",
       "    .dataframe thead th {\n",
       "        text-align: right;\n",
       "    }\n",
       "</style>\n",
       "<table border=\"1\" class=\"dataframe\">\n",
       "  <thead>\n",
       "    <tr style=\"text-align: right;\">\n",
       "      <th></th>\n",
       "      <th>Category</th>\n",
       "      <th>Descript</th>\n",
       "      <th>DayOfWeek</th>\n",
       "      <th>PdDistrict</th>\n",
       "      <th>Resolution</th>\n",
       "      <th>Address</th>\n",
       "      <th>X</th>\n",
       "      <th>Y</th>\n",
       "    </tr>\n",
       "  </thead>\n",
       "  <tbody>\n",
       "    <tr>\n",
       "      <th>216646</th>\n",
       "      <td>25</td>\n",
       "      <td>663</td>\n",
       "      <td>5</td>\n",
       "      <td>9</td>\n",
       "      <td>11</td>\n",
       "      <td>11495</td>\n",
       "      <td>-122.416916</td>\n",
       "      <td>37.784394</td>\n",
       "    </tr>\n",
       "    <tr>\n",
       "      <th>363582</th>\n",
       "      <td>37</td>\n",
       "      <td>866</td>\n",
       "      <td>0</td>\n",
       "      <td>0</td>\n",
       "      <td>0</td>\n",
       "      <td>16556</td>\n",
       "      <td>-122.405590</td>\n",
       "      <td>37.729777</td>\n",
       "    </tr>\n",
       "    <tr>\n",
       "      <th>617773</th>\n",
       "      <td>21</td>\n",
       "      <td>415</td>\n",
       "      <td>6</td>\n",
       "      <td>7</td>\n",
       "      <td>11</td>\n",
       "      <td>12308</td>\n",
       "      <td>-122.403405</td>\n",
       "      <td>37.775421</td>\n",
       "    </tr>\n",
       "  </tbody>\n",
       "</table>\n",
       "</div>"
      ],
      "text/plain": [
       "        Category  Descript  DayOfWeek  PdDistrict  Resolution  Address  \\\n",
       "216646        25       663          5           9          11    11495   \n",
       "363582        37       866          0           0           0    16556   \n",
       "617773        21       415          6           7          11    12308   \n",
       "\n",
       "                 X          Y  \n",
       "216646 -122.416916  37.784394  \n",
       "363582 -122.405590  37.729777  \n",
       "617773 -122.403405  37.775421  "
      ]
     },
     "execution_count": 22,
     "metadata": {},
     "output_type": "execute_result"
    }
   ],
   "source": [
    "df.sample(3)"
   ]
  },
  {
   "cell_type": "code",
   "execution_count": 23,
   "id": "52510ea4",
   "metadata": {},
   "outputs": [
    {
     "data": {
      "image/png": "[encoded data removed]",
      "text/plain": [
       "<Figure size 864x864 with 2 Axes>"
      ]
     },
     "metadata": {
      "needs_background": "light"
     },
     "output_type": "display_data"
    }
   ],
   "source": [
    "#checking how each of the column influence each other \n",
    "plt.figure(figsize = (12, 12))\n",
    "sns.heatmap(df.corr(),\n",
    "           annot = True,\n",
    "           cmap = \"Blues\",\n",
    "            fmt=\".0%\",\n",
    "           linewidths = 2, \n",
    "           linecolor = \"white\")\n",
    "plt.title(\"Correlation matrix of Crime Data\")\n",
    "plt.show()"
   ]
  },
  {
   "cell_type": "code",
   "execution_count": 24,
   "id": "bf7fa924",
   "metadata": {},
   "outputs": [
    {
     "data": {
      "text/plain": [
       "Text(0.5, 1.0, 'PdDistrict')"
      ]
     },
     "execution_count": 24,
     "metadata": {},
     "output_type": "execute_result"
    },
    {
     "data": {
      "image/png": "[encoded data removed]",
      "text/plain": [
       "<Figure size 576x576 with 1 Axes>"
      ]
     },
     "metadata": {},
     "output_type": "display_data"
    }
   ],
   "source": [
    "plt.figure(figsize=(8,8))\n",
    "explode=(0.1,0.05,0.05)\n",
    "df['PdDistrict'].value_counts().plot.pie(autopct='%1.1f%%',startangle=60)\n",
    "plt.title('PdDistrict')"
   ]
  },
  {
   "cell_type": "code",
   "execution_count": 25,
   "id": "85989b7a",
   "metadata": {},
   "outputs": [],
   "source": [
    "df = df.drop(labels=['X', 'Y'], axis=1)"
   ]
  },
  {
   "cell_type": "markdown",
   "id": "2a92155f",
   "metadata": {},
   "source": [
    "# Feature Selection using Chi-Square"
   ]
  },
  {
   "cell_type": "code",
   "execution_count": 26,
   "id": "4a3f0d50",
   "metadata": {
    "scrolled": true
   },
   "outputs": [],
   "source": [
    "from sklearn.feature_selection import SelectKBest, mutual_info_classif\n",
    "# Feature Extraction\n",
    "# Extract the features and target variable from the dataset\n",
    "X = df.drop(labels=['Category'], axis=1 ) # Select the relevant features\n",
    "y = df['Category']  # Target variable\n",
    "\n",
    "# Perform feature selection using mutual information\n",
    "selector = SelectKBest(score_func=mutual_info_classif, k=5)  # Adjust 'k' as needed\n",
    "selected_features = selector.fit_transform(X, y)\n",
    "\n",
    "# Get the selected feature indices\n",
    "selected_indices = selector.get_support(indices=True)\n",
    "\n",
    "# Get the selected feature names\n",
    "selected_feature_names = X.columns[selected_indices]"
   ]
  },
  {
   "cell_type": "code",
   "execution_count": 27,
   "id": "569121cb",
   "metadata": {},
   "outputs": [
    {
     "data": {
      "text/plain": [
       "Index(['Descript', 'DayOfWeek', 'PdDistrict', 'Resolution', 'Address'], dtype='object')"
      ]
     },
     "execution_count": 27,
     "metadata": {},
     "output_type": "execute_result"
    }
   ],
   "source": [
    "# print the selected features\n",
    "selected_feature_names"
   ]
  },
  {
   "cell_type": "code",
   "execution_count": 28,
   "id": "b40139bf",
   "metadata": {},
   "outputs": [],
   "source": [
    "X_train, X_test, Y_train, Y_test= train_test_split(X, y, test_size=0.30, random_state=0)"
   ]
  },
  {
   "cell_type": "markdown",
   "id": "c4591130",
   "metadata": {},
   "source": [
    "# Decision Tree"
   ]
  },
  {
   "cell_type": "code",
   "execution_count": 29,
   "id": "ca13d45b",
   "metadata": {},
   "outputs": [
    {
     "name": "stdout",
     "output_type": "stream",
     "text": [
      "0.9648376106756216\n"
     ]
    }
   ],
   "source": [
    "tree = DecisionTreeClassifier(random_state=42, max_depth=11)\n",
    "tree.fit(X_train, Y_train)\n",
    "    \n",
    "print (tree.score(X_train, Y_train))"
   ]
  },
  {
   "cell_type": "code",
   "execution_count": 30,
   "id": "b9edc2c0",
   "metadata": {},
   "outputs": [],
   "source": [
    "y_pred = tree.predict(X_test)"
   ]
  },
  {
   "cell_type": "code",
   "execution_count": 31,
   "id": "3a18229c",
   "metadata": {},
   "outputs": [
    {
     "data": {
      "text/plain": [
       "array([38, 21, 37,  1, 37, 20,  4, 21, 26,  4])"
      ]
     },
     "execution_count": 31,
     "metadata": {},
     "output_type": "execute_result"
    }
   ],
   "source": [
    "y_pred[:10]"
   ]
  },
  {
   "cell_type": "code",
   "execution_count": 32,
   "id": "8e37ba09",
   "metadata": {},
   "outputs": [
    {
     "name": "stderr",
     "output_type": "stream",
     "text": [
      "C:\\Users\\WRASH-TECH\\anaconda3\\lib\\site-packages\\sklearn\\metrics\\_classification.py:1344: UndefinedMetricWarning: Precision is ill-defined and being set to 0.0 in labels with no predicted samples. Use `zero_division` parameter to control this behavior.\n",
      "  _warn_prf(average, modifier, msg_start, len(result))\n"
     ]
    },
    {
     "name": "stdout",
     "output_type": "stream",
     "text": [
      "=================Decision Tree Performance Report =============\n",
      "accuracy :  0.9646147713683731\n",
      "precision :  0.8535267406041078\n",
      "recall :  0.7514646838532919\n",
      "f1 :  0.7683826204554619\n"
     ]
    }
   ],
   "source": [
    "dt_accuracy = accuracy_score(Y_test, y_pred)\n",
    "dt_precision = precision_score(Y_test, y_pred, average='macro')\n",
    "dt_recall = recall_score(Y_test, y_pred, average='macro')\n",
    "dt_f1 = f1_score(Y_test, y_pred, average='macro')\n",
    "\n",
    "\n",
    "\n",
    "print(\"=================Decision Tree Performance Report =============\")\n",
    "print('accuracy : ', dt_accuracy)\n",
    "print('precision : ', dt_precision)\n",
    "print('recall : ', dt_recall)\n",
    "print('f1 : ', dt_f1)"
   ]
  },
  {
   "cell_type": "markdown",
   "id": "9fac514a",
   "metadata": {},
   "source": [
    "# XGboost"
   ]
  },
  {
   "cell_type": "code",
   "execution_count": 33,
   "id": "259b83aa",
   "metadata": {},
   "outputs": [
    {
     "name": "stdout",
     "output_type": "stream",
     "text": [
      "0.9984397218507274\n"
     ]
    }
   ],
   "source": [
    "xgb_model = xgb.XGBClassifier()\n",
    "xgb_model.fit(X_train, Y_train)\n",
    "print (xgb_model.score(X_train, Y_train))\n",
    "xgb_pred = xgb_model.predict(X_test)"
   ]
  },
  {
   "cell_type": "code",
   "execution_count": 34,
   "id": "8b9faa80",
   "metadata": {},
   "outputs": [
    {
     "name": "stdout",
     "output_type": "stream",
     "text": [
      "=================XGBoost Performance Report =============\n",
      "accuracy :  0.9971641706053186\n",
      "precision :  0.9883689451626034\n",
      "recall :  0.983865205746298\n",
      "f1 :  0.9847509239132695\n"
     ]
    }
   ],
   "source": [
    "xgb_accuracy = accuracy_score(Y_test, xgb_pred)\n",
    "xgb_precision = precision_score(Y_test, xgb_pred, average='macro')\n",
    "xgb_recall = recall_score(Y_test, xgb_pred, average='macro')\n",
    "xgb_fl = f1_score(Y_test, xgb_pred, average='macro')\n",
    "\n",
    "print(\"=================XGBoost Performance Report =============\")\n",
    "print('accuracy : ', xgb_accuracy)\n",
    "print('precision : ', xgb_precision)\n",
    "print('recall : ', xgb_recall)\n",
    "print('f1 : ', xgb_fl)"
   ]
  },
  {
   "cell_type": "markdown",
   "id": "77ab670e",
   "metadata": {},
   "source": [
    "# KNN"
   ]
  },
  {
   "cell_type": "code",
   "execution_count": 35,
   "id": "68db9231",
   "metadata": {},
   "outputs": [],
   "source": [
    "knn = KNeighborsClassifier(n_neighbors=5)\n",
    "knn.fit(X_train, Y_train)\n",
    "knn_predictions = knn.predict(X_test)"
   ]
  },
  {
   "cell_type": "code",
   "execution_count": 36,
   "id": "efd03fdf",
   "metadata": {},
   "outputs": [
    {
     "name": "stderr",
     "output_type": "stream",
     "text": [
      "C:\\Users\\WRASH-TECH\\anaconda3\\lib\\site-packages\\sklearn\\metrics\\_classification.py:1344: UndefinedMetricWarning: Precision is ill-defined and being set to 0.0 in labels with no predicted samples. Use `zero_division` parameter to control this behavior.\n",
      "  _warn_prf(average, modifier, msg_start, len(result))\n"
     ]
    },
    {
     "name": "stdout",
     "output_type": "stream",
     "text": [
      "=================KNN Performance Report =============\n",
      "accuracy :  0.8750412846648824\n",
      "precision :  0.6382200565323136\n",
      "recall :  0.5361199334492446\n",
      "f1 :  0.5607028359601752\n"
     ]
    }
   ],
   "source": [
    "knn_accuracy = accuracy_score(Y_test, knn_predictions)\n",
    "knn_precision = precision_score(Y_test, knn_predictions, average='macro')\n",
    "knn_recall = recall_score(Y_test, knn_predictions, average='macro')\n",
    "knn_f1 = f1_score(Y_test, knn_predictions, average='macro')\n",
    "\n",
    "\n",
    "\n",
    "print(\"=================KNN Performance Report =============\")\n",
    "print('accuracy : ', knn_accuracy)\n",
    "print('precision : ', knn_precision)\n",
    "print('recall : ', knn_recall)\n",
    "print('f1 : ', knn_f1)"
   ]
  },
  {
   "cell_type": "markdown",
   "id": "f7f555db",
   "metadata": {},
   "source": [
    "#  Hybridization "
   ]
  },
  {
   "cell_type": "code",
   "execution_count": 37,
   "id": "63bc0595",
   "metadata": {},
   "outputs": [],
   "source": [
    "from sklearn.metrics import accuracy_score\n",
    "from sklearn.ensemble import StackingClassifier"
   ]
  },
  {
   "cell_type": "code",
   "execution_count": 40,
   "id": "cd54f54f",
   "metadata": {},
   "outputs": [
    {
     "name": "stderr",
     "output_type": "stream",
     "text": [
      "C:\\Users\\WRASH-TECH\\anaconda3\\lib\\site-packages\\sklearn\\model_selection\\_split.py:700: UserWarning: The least populated class in y has only 4 members, which is less than n_splits=5.\n",
      "  warnings.warn(\n",
      "C:\\Users\\WRASH-TECH\\anaconda3\\lib\\site-packages\\sklearn\\model_selection\\_split.py:700: UserWarning: The least populated class in y has only 4 members, which is less than n_splits=5.\n",
      "  warnings.warn(\n"
     ]
    }
   ],
   "source": [
    "# Create the base estimators\n",
    "base_estimators = [\n",
    "    ('decision_tree', DecisionTreeClassifier()),\n",
    "#     ('xgb', xgb.XGBClassifier()),\n",
    "    ('knn', KNeighborsClassifier())\n",
    "]\n",
    "\n",
    "# Create the stacked ensemble model using StackingClassifier\n",
    "stacked_model = StackingClassifier(\n",
    "    estimators=base_estimators,\n",
    "    final_estimator=DecisionTreeClassifier()  # Use a Decision Tree as the meta-model\n",
    ")\n",
    "\n",
    "# Train the stacked ensemble model\n",
    "stacked_model.fit(X_train, Y_train)\n",
    "\n",
    "# Make predictions on the test set\n",
    "y_pred = stacked_model.predict(X_test)"
   ]
  },
  {
   "cell_type": "code",
   "execution_count": 41,
   "id": "50ca3eee",
   "metadata": {},
   "outputs": [
    {
     "name": "stdout",
     "output_type": "stream",
     "text": [
      "================ Stack Model Classification Result ==========================\n",
      "              precision    recall  f1-score   support\n",
      "\n",
      "           0       1.00      1.00      1.00       451\n",
      "           1       1.00      1.00      1.00     23137\n",
      "           2       1.00      1.00      1.00       118\n",
      "           3       1.00      1.00      1.00        84\n",
      "           4       1.00      1.00      1.00     10890\n",
      "           5       1.00      1.00      1.00      1226\n",
      "           6       1.00      1.00      1.00       701\n",
      "           7       1.00      1.00      1.00     16338\n",
      "           8       1.00      1.00      1.00      1260\n",
      "           9       1.00      1.00      1.00       340\n",
      "          10       1.00      1.00      1.00        82\n",
      "          11       1.00      0.99      0.99       144\n",
      "          12       1.00      1.00      1.00      3161\n",
      "          13       1.00      1.00      1.00      4929\n",
      "          14       1.00      1.00      1.00        48\n",
      "          15       0.88      0.96      0.92       714\n",
      "          16       1.00      1.00      1.00     52146\n",
      "          17       1.00      1.00      1.00       596\n",
      "          18       1.00      1.00      1.00       379\n",
      "          19       1.00      1.00      1.00      7802\n",
      "          20       1.00      1.00      1.00     27775\n",
      "          21       1.00      1.00      1.00     37904\n",
      "          22       1.00      0.88      0.93         8\n",
      "          23       1.00      1.00      1.00      2202\n",
      "          24       0.66      0.83      0.74       950\n",
      "          25       1.00      1.00      1.00      6883\n",
      "          26       1.00      1.00      1.00       592\n",
      "          27       1.00      1.00      1.00      2930\n",
      "          28       1.00      1.00      1.00      1305\n",
      "          29       0.96      1.00      0.98        44\n",
      "          30       1.00      1.00      1.00      1405\n",
      "          31       1.00      0.99      1.00       145\n",
      "          32       1.00      1.00      1.00      9566\n",
      "          33       0.67      1.00      0.80         2\n",
      "          34       1.00      1.00      1.00      2207\n",
      "          35       1.00      1.00      1.00     13483\n",
      "          36       0.99      0.97      0.98     16152\n",
      "          37       1.00      1.00      1.00     12781\n",
      "          38       1.00      1.00      1.00      2535\n",
      "\n",
      "    accuracy                           1.00    263415\n",
      "   macro avg       0.98      0.99      0.98    263415\n",
      "weighted avg       1.00      1.00      1.00    263415\n",
      "\n"
     ]
    }
   ],
   "source": [
    "print(\"================ Stack Model Classification Result ==========================\")\n",
    "hybrid_report = classification_report(Y_test, y_pred, digits=2)\n",
    "print(hybrid_report)"
   ]
  },
  {
   "cell_type": "code",
   "execution_count": 42,
   "id": "2114d618",
   "metadata": {},
   "outputs": [
    {
     "name": "stdout",
     "output_type": "stream",
     "text": [
      "=================Stacked Model Tree Performance Report =============\n",
      "accuracy :  0.9969819486361825\n",
      "precision :  0.9780936046703156\n",
      "recall :  0.9897142325621167\n",
      "f1 :  0.9826481138744005\n"
     ]
    }
   ],
   "source": [
    "hyb_accuracy = accuracy_score(Y_test, y_pred)\n",
    "hyb_precision = precision_score(Y_test, y_pred, average='macro')\n",
    "hyb_recall = recall_score(Y_test, y_pred, average='macro')\n",
    "hyb_f1 = f1_score(Y_test, y_pred, average='macro')\n",
    "\n",
    "\n",
    "\n",
    "print(\"=================Stacked Model Tree Performance Report =============\")\n",
    "print('accuracy : ', hyb_accuracy)\n",
    "print('precision : ', hyb_precision)\n",
    "print('recall : ', hyb_recall)\n",
    "print('f1 : ', hyb_f1)"
   ]
  },
  {
   "cell_type": "code",
   "execution_count": 43,
   "id": "443e270a",
   "metadata": {},
   "outputs": [
    {
     "data": {
      "text/html": [
       "<div>\n",
       "<style scoped>\n",
       "    .dataframe tbody tr th:only-of-type {\n",
       "        vertical-align: middle;\n",
       "    }\n",
       "\n",
       "    .dataframe tbody tr th {\n",
       "        vertical-align: top;\n",
       "    }\n",
       "\n",
       "    .dataframe thead th {\n",
       "        text-align: right;\n",
       "    }\n",
       "</style>\n",
       "<table border=\"1\" class=\"dataframe\">\n",
       "  <thead>\n",
       "    <tr style=\"text-align: right;\">\n",
       "      <th></th>\n",
       "      <th>index</th>\n",
       "      <th>Accuracy</th>\n",
       "      <th>Models</th>\n",
       "    </tr>\n",
       "  </thead>\n",
       "  <tbody>\n",
       "    <tr>\n",
       "      <th>0</th>\n",
       "      <td>0</td>\n",
       "      <td>0.997164</td>\n",
       "      <td>XGB</td>\n",
       "    </tr>\n",
       "    <tr>\n",
       "      <th>1</th>\n",
       "      <td>1</td>\n",
       "      <td>0.964615</td>\n",
       "      <td>DT</td>\n",
       "    </tr>\n",
       "    <tr>\n",
       "      <th>2</th>\n",
       "      <td>2</td>\n",
       "      <td>0.875041</td>\n",
       "      <td>KNN</td>\n",
       "    </tr>\n",
       "    <tr>\n",
       "      <th>3</th>\n",
       "      <td>3</td>\n",
       "      <td>0.996982</td>\n",
       "      <td>Hybrid</td>\n",
       "    </tr>\n",
       "  </tbody>\n",
       "</table>\n",
       "</div>"
      ],
      "text/plain": [
       "   index  Accuracy  Models\n",
       "0      0  0.997164     XGB\n",
       "1      1  0.964615      DT\n",
       "2      2  0.875041     KNN\n",
       "3      3  0.996982  Hybrid"
      ]
     },
     "execution_count": 43,
     "metadata": {},
     "output_type": "execute_result"
    }
   ],
   "source": [
    "hy_box = pd.DataFrame({\n",
    "    'index':[0, 1, 2, 3],\n",
    "    'Accuracy': [float(xgb_accuracy), float(dt_accuracy), float(knn_accuracy), float(hyb_accuracy)],\n",
    "    'Models':['XGB', 'DT', 'KNN', 'Hybrid']\n",
    "})\n",
    "hy_box.head()"
   ]
  },
  {
   "cell_type": "code",
   "execution_count": 44,
   "id": "310cb468",
   "metadata": {},
   "outputs": [],
   "source": [
    "def plot_graph(df, title, x):\n",
    "    fig, ax = plt.subplots(figsize=(10, 8))\n",
    "    sns.set_style('whitegrid')\n",
    "    sns.barplot(data=df, x=x, y=\"Accuracy\")\n",
    "    ax.set_title(f'{title}')\n",
    "    plt.show()"
   ]
  },
  {
   "cell_type": "code",
   "execution_count": 45,
   "id": "373c0bf2",
   "metadata": {},
   "outputs": [
    {
     "data": {
      "text/html": [
       "<div>\n",
       "<style scoped>\n",
       "    .dataframe tbody tr th:only-of-type {\n",
       "        vertical-align: middle;\n",
       "    }\n",
       "\n",
       "    .dataframe tbody tr th {\n",
       "        vertical-align: top;\n",
       "    }\n",
       "\n",
       "    .dataframe thead th {\n",
       "        text-align: right;\n",
       "    }\n",
       "</style>\n",
       "<table border=\"1\" class=\"dataframe\">\n",
       "  <thead>\n",
       "    <tr style=\"text-align: right;\">\n",
       "      <th></th>\n",
       "      <th>index</th>\n",
       "      <th>Accuracy</th>\n",
       "      <th>Models</th>\n",
       "    </tr>\n",
       "  </thead>\n",
       "  <tbody>\n",
       "    <tr>\n",
       "      <th>0</th>\n",
       "      <td>0</td>\n",
       "      <td>0.964615</td>\n",
       "      <td>DT</td>\n",
       "    </tr>\n",
       "    <tr>\n",
       "      <th>1</th>\n",
       "      <td>1</td>\n",
       "      <td>0.996982</td>\n",
       "      <td>STACK</td>\n",
       "    </tr>\n",
       "  </tbody>\n",
       "</table>\n",
       "</div>"
      ],
      "text/plain": [
       "   index  Accuracy Models\n",
       "0      0  0.964615     DT\n",
       "1      1  0.996982  STACK"
      ]
     },
     "execution_count": 45,
     "metadata": {},
     "output_type": "execute_result"
    }
   ],
   "source": [
    "dt_stack = pd.DataFrame({\n",
    "    'index':[0, 1],\n",
    "    'Accuracy': [ float(dt_accuracy), float(hyb_accuracy)],\n",
    "    'Models':['DT', 'STACK']\n",
    "})\n",
    "dt_stack.head()"
   ]
  },
  {
   "cell_type": "code",
   "execution_count": 46,
   "id": "6699656d",
   "metadata": {},
   "outputs": [
    {
     "data": {
      "text/html": [
       "<div>\n",
       "<style scoped>\n",
       "    .dataframe tbody tr th:only-of-type {\n",
       "        vertical-align: middle;\n",
       "    }\n",
       "\n",
       "    .dataframe tbody tr th {\n",
       "        vertical-align: top;\n",
       "    }\n",
       "\n",
       "    .dataframe thead th {\n",
       "        text-align: right;\n",
       "    }\n",
       "</style>\n",
       "<table border=\"1\" class=\"dataframe\">\n",
       "  <thead>\n",
       "    <tr style=\"text-align: right;\">\n",
       "      <th></th>\n",
       "      <th>index</th>\n",
       "      <th>Accuracy</th>\n",
       "      <th>Models</th>\n",
       "    </tr>\n",
       "  </thead>\n",
       "  <tbody>\n",
       "    <tr>\n",
       "      <th>0</th>\n",
       "      <td>0</td>\n",
       "      <td>0.875041</td>\n",
       "      <td>KNN</td>\n",
       "    </tr>\n",
       "    <tr>\n",
       "      <th>1</th>\n",
       "      <td>1</td>\n",
       "      <td>0.996982</td>\n",
       "      <td>STACK</td>\n",
       "    </tr>\n",
       "  </tbody>\n",
       "</table>\n",
       "</div>"
      ],
      "text/plain": [
       "   index  Accuracy Models\n",
       "0      0  0.875041    KNN\n",
       "1      1  0.996982  STACK"
      ]
     },
     "execution_count": 46,
     "metadata": {},
     "output_type": "execute_result"
    }
   ],
   "source": [
    "knn_stack = pd.DataFrame({\n",
    "    'index':[0, 1],\n",
    "    'Accuracy': [ float(knn_accuracy), float(hyb_accuracy)],\n",
    "    'Models':['KNN', 'STACK']\n",
    "})\n",
    "knn_stack.head()"
   ]
  },
  {
   "cell_type": "code",
   "execution_count": 47,
   "id": "1b49b92c",
   "metadata": {},
   "outputs": [
    {
     "data": {
      "text/html": [
       "<div>\n",
       "<style scoped>\n",
       "    .dataframe tbody tr th:only-of-type {\n",
       "        vertical-align: middle;\n",
       "    }\n",
       "\n",
       "    .dataframe tbody tr th {\n",
       "        vertical-align: top;\n",
       "    }\n",
       "\n",
       "    .dataframe thead th {\n",
       "        text-align: right;\n",
       "    }\n",
       "</style>\n",
       "<table border=\"1\" class=\"dataframe\">\n",
       "  <thead>\n",
       "    <tr style=\"text-align: right;\">\n",
       "      <th></th>\n",
       "      <th>index</th>\n",
       "      <th>Accuracy</th>\n",
       "      <th>Models</th>\n",
       "    </tr>\n",
       "  </thead>\n",
       "  <tbody>\n",
       "    <tr>\n",
       "      <th>0</th>\n",
       "      <td>0</td>\n",
       "      <td>0.964615</td>\n",
       "      <td>DT</td>\n",
       "    </tr>\n",
       "    <tr>\n",
       "      <th>1</th>\n",
       "      <td>1</td>\n",
       "      <td>0.875041</td>\n",
       "      <td>KNN</td>\n",
       "    </tr>\n",
       "  </tbody>\n",
       "</table>\n",
       "</div>"
      ],
      "text/plain": [
       "   index  Accuracy Models\n",
       "0      0  0.964615     DT\n",
       "1      1  0.875041    KNN"
      ]
     },
     "execution_count": 47,
     "metadata": {},
     "output_type": "execute_result"
    }
   ],
   "source": [
    "dt_knn = pd.DataFrame({\n",
    "    'index':[0, 1],\n",
    "    'Accuracy': [ float(dt_accuracy), float(knn_accuracy)],\n",
    "    'Models':['DT', 'KNN']\n",
    "})\n",
    "dt_knn.head()"
   ]
  },
  {
   "cell_type": "code",
   "execution_count": 48,
   "id": "dfb6d757",
   "metadata": {},
   "outputs": [
    {
     "data": {
      "text/html": [
       "<div>\n",
       "<style scoped>\n",
       "    .dataframe tbody tr th:only-of-type {\n",
       "        vertical-align: middle;\n",
       "    }\n",
       "\n",
       "    .dataframe tbody tr th {\n",
       "        vertical-align: top;\n",
       "    }\n",
       "\n",
       "    .dataframe thead th {\n",
       "        text-align: right;\n",
       "    }\n",
       "</style>\n",
       "<table border=\"1\" class=\"dataframe\">\n",
       "  <thead>\n",
       "    <tr style=\"text-align: right;\">\n",
       "      <th></th>\n",
       "      <th>index</th>\n",
       "      <th>Accuracy</th>\n",
       "      <th>Models</th>\n",
       "    </tr>\n",
       "  </thead>\n",
       "  <tbody>\n",
       "    <tr>\n",
       "      <th>0</th>\n",
       "      <td>0</td>\n",
       "      <td>0.964615</td>\n",
       "      <td>DT</td>\n",
       "    </tr>\n",
       "    <tr>\n",
       "      <th>1</th>\n",
       "      <td>1</td>\n",
       "      <td>0.997164</td>\n",
       "      <td>XGB</td>\n",
       "    </tr>\n",
       "  </tbody>\n",
       "</table>\n",
       "</div>"
      ],
      "text/plain": [
       "   index  Accuracy Models\n",
       "0      0  0.964615     DT\n",
       "1      1  0.997164    XGB"
      ]
     },
     "execution_count": 48,
     "metadata": {},
     "output_type": "execute_result"
    }
   ],
   "source": [
    "dt_xgb = pd.DataFrame({\n",
    "    'index':[0, 1],\n",
    "    'Accuracy': [ float(dt_accuracy), float(xgb_accuracy)],\n",
    "    'Models':['DT', 'XGB']\n",
    "})\n",
    "dt_xgb.head()"
   ]
  },
  {
   "cell_type": "code",
   "execution_count": 49,
   "id": "df9fb0bb",
   "metadata": {},
   "outputs": [
    {
     "data": {
      "text/html": [
       "<div>\n",
       "<style scoped>\n",
       "    .dataframe tbody tr th:only-of-type {\n",
       "        vertical-align: middle;\n",
       "    }\n",
       "\n",
       "    .dataframe tbody tr th {\n",
       "        vertical-align: top;\n",
       "    }\n",
       "\n",
       "    .dataframe thead th {\n",
       "        text-align: right;\n",
       "    }\n",
       "</style>\n",
       "<table border=\"1\" class=\"dataframe\">\n",
       "  <thead>\n",
       "    <tr style=\"text-align: right;\">\n",
       "      <th></th>\n",
       "      <th>index</th>\n",
       "      <th>Accuracy</th>\n",
       "      <th>Models</th>\n",
       "    </tr>\n",
       "  </thead>\n",
       "  <tbody>\n",
       "    <tr>\n",
       "      <th>0</th>\n",
       "      <td>0</td>\n",
       "      <td>0.964615</td>\n",
       "      <td>DT</td>\n",
       "    </tr>\n",
       "    <tr>\n",
       "      <th>1</th>\n",
       "      <td>1</td>\n",
       "      <td>0.997164</td>\n",
       "      <td>XGB</td>\n",
       "    </tr>\n",
       "  </tbody>\n",
       "</table>\n",
       "</div>"
      ],
      "text/plain": [
       "   index  Accuracy Models\n",
       "0      0  0.964615     DT\n",
       "1      1  0.997164    XGB"
      ]
     },
     "execution_count": 49,
     "metadata": {},
     "output_type": "execute_result"
    }
   ],
   "source": [
    "knn_xgb = pd.DataFrame({\n",
    "    'index':[0, 1],\n",
    "    'Accuracy': [ float(dt_accuracy), float(xgb_accuracy)],\n",
    "    'Models':['DT', 'XGB']\n",
    "})\n",
    "dt_xgb.head()"
   ]
  },
  {
   "cell_type": "code",
   "execution_count": 55,
   "id": "80d5c579",
   "metadata": {},
   "outputs": [
    {
     "data": {
      "text/html": [
       "<div>\n",
       "<style scoped>\n",
       "    .dataframe tbody tr th:only-of-type {\n",
       "        vertical-align: middle;\n",
       "    }\n",
       "\n",
       "    .dataframe tbody tr th {\n",
       "        vertical-align: top;\n",
       "    }\n",
       "\n",
       "    .dataframe thead th {\n",
       "        text-align: right;\n",
       "    }\n",
       "</style>\n",
       "<table border=\"1\" class=\"dataframe\">\n",
       "  <thead>\n",
       "    <tr style=\"text-align: right;\">\n",
       "      <th></th>\n",
       "      <th>index</th>\n",
       "      <th>Accuracy</th>\n",
       "      <th>Models</th>\n",
       "    </tr>\n",
       "  </thead>\n",
       "  <tbody>\n",
       "    <tr>\n",
       "      <th>0</th>\n",
       "      <td>0</td>\n",
       "      <td>0.997164</td>\n",
       "      <td>XGB</td>\n",
       "    </tr>\n",
       "    <tr>\n",
       "      <th>1</th>\n",
       "      <td>1</td>\n",
       "      <td>0.996982</td>\n",
       "      <td>STACK</td>\n",
       "    </tr>\n",
       "  </tbody>\n",
       "</table>\n",
       "</div>"
      ],
      "text/plain": [
       "   index  Accuracy Models\n",
       "0      0  0.997164    XGB\n",
       "1      1  0.996982  STACK"
      ]
     },
     "execution_count": 55,
     "metadata": {},
     "output_type": "execute_result"
    }
   ],
   "source": [
    "xgb_stack = pd.DataFrame({\n",
    "    'index':[0, 1],\n",
    "    'Accuracy': [ float(xgb_accuracy), float(hyb_accuracy)],\n",
    "    'Models':['XGB', 'STACK']\n",
    "})\n",
    "xgb_stack.head()"
   ]
  },
  {
   "cell_type": "code",
   "execution_count": 51,
   "id": "1107c960",
   "metadata": {},
   "outputs": [
    {
     "data": {
      "text/html": [
       "<div>\n",
       "<style scoped>\n",
       "    .dataframe tbody tr th:only-of-type {\n",
       "        vertical-align: middle;\n",
       "    }\n",
       "\n",
       "    .dataframe tbody tr th {\n",
       "        vertical-align: top;\n",
       "    }\n",
       "\n",
       "    .dataframe thead th {\n",
       "        text-align: right;\n",
       "    }\n",
       "</style>\n",
       "<table border=\"1\" class=\"dataframe\">\n",
       "  <thead>\n",
       "    <tr style=\"text-align: right;\">\n",
       "      <th></th>\n",
       "      <th>index</th>\n",
       "      <th>Accuracy</th>\n",
       "      <th>Models</th>\n",
       "    </tr>\n",
       "  </thead>\n",
       "  <tbody>\n",
       "    <tr>\n",
       "      <th>0</th>\n",
       "      <td>0</td>\n",
       "      <td>0.997164</td>\n",
       "      <td>XGB</td>\n",
       "    </tr>\n",
       "    <tr>\n",
       "      <th>1</th>\n",
       "      <td>1</td>\n",
       "      <td>0.964615</td>\n",
       "      <td>DT</td>\n",
       "    </tr>\n",
       "    <tr>\n",
       "      <th>2</th>\n",
       "      <td>2</td>\n",
       "      <td>0.875041</td>\n",
       "      <td>KNN</td>\n",
       "    </tr>\n",
       "  </tbody>\n",
       "</table>\n",
       "</div>"
      ],
      "text/plain": [
       "   index  Accuracy Models\n",
       "0      0  0.997164    XGB\n",
       "1      1  0.964615     DT\n",
       "2      2  0.875041    KNN"
      ]
     },
     "execution_count": 51,
     "metadata": {},
     "output_type": "execute_result"
    }
   ],
   "source": [
    "model_box = pd.DataFrame({\n",
    "    'index':[0, 1, 2],\n",
    "    'Accuracy': [float(xgb_accuracy), float(dt_accuracy), float(knn_accuracy)],\n",
    "    'Models':['XGB', 'DT', 'KNN']\n",
    "})\n",
    "model_box.head()"
   ]
  },
  {
   "cell_type": "code",
   "execution_count": 52,
   "id": "37112030",
   "metadata": {},
   "outputs": [
    {
     "data": {
      "image/png": "[encoded data removed]",
      "text/plain": [
       "<Figure size 720x576 with 1 Axes>"
      ]
     },
     "metadata": {
      "needs_background": "light"
     },
     "output_type": "display_data"
    }
   ],
   "source": [
    "# KNN and STACK\n",
    "plot_graph(df=knn_stack, title=\"KNN and Stack prediction result\", x=\"Models\")"
   ]
  },
  {
   "cell_type": "code",
   "execution_count": 53,
   "id": "c338a7d2",
   "metadata": {},
   "outputs": [
    {
     "data": {
      "image/png": "[encoded data removed]",
      "text/plain": [
       "<Figure size 720x576 with 1 Axes>"
      ]
     },
     "metadata": {},
     "output_type": "display_data"
    }
   ],
   "source": [
    "plot_graph(df=knn_xgb, title=\"KNN and XGB prediction result\", x=\"Models\")"
   ]
  },
  {
   "cell_type": "code",
   "execution_count": 56,
   "id": "433d0a7f",
   "metadata": {},
   "outputs": [
    {
     "data": {
      "image/png": "[encoded data removed]",
      "text/plain": [
       "<Figure size 720x576 with 1 Axes>"
      ]
     },
     "metadata": {},
     "output_type": "display_data"
    }
   ],
   "source": [
    "# xgb_stack\n",
    "plot_graph(df=xgb_stack, title=\"XGB and STACK prediction result\", x=\"Models\")"
   ]
  },
  {
   "cell_type": "code",
   "execution_count": 57,
   "id": "763b9f02",
   "metadata": {},
   "outputs": [
    {
     "data": {
      "image/png": "[encoded data removed]",
      "text/plain": [
       "<Figure size 720x576 with 1 Axes>"
      ]
     },
     "metadata": {},
     "output_type": "display_data"
    }
   ],
   "source": [
    "plot_graph(df=dt_xgb, title=\"DT and KNN prediction result\", x=\"Models\")"
   ]
  },
  {
   "cell_type": "code",
   "execution_count": 58,
   "id": "a558ae1c",
   "metadata": {},
   "outputs": [
    {
     "data": {
      "image/png": "[encoded data removed]",
      "text/plain": [
       "<Figure size 720x576 with 1 Axes>"
      ]
     },
     "metadata": {},
     "output_type": "display_data"
    }
   ],
   "source": [
    "# STACK and Decision Tree\n",
    "plot_graph(df=dt_stack, title=\"Decision Tree and Stack prediction result\", x=\"Models\")"
   ]
  },
  {
   "cell_type": "code",
   "execution_count": 59,
   "id": "fcf26221",
   "metadata": {},
   "outputs": [
    {
     "data": {
      "image/png": "[encoded data removed]",
      "text/plain": [
       "<Figure size 720x576 with 1 Axes>"
      ]
     },
     "metadata": {},
     "output_type": "display_data"
    }
   ],
   "source": [
    "# KNN and Decision Tree\n",
    "plot_graph(df=dt_knn, title=\"KNN and Decision Tree prediction detection\", x=\"Models\")"
   ]
  },
  {
   "cell_type": "code",
   "execution_count": 60,
   "id": "f54806d0",
   "metadata": {},
   "outputs": [
    {
     "data": {
      "image/png": "[encoded data removed]",
      "text/plain": [
       "<Figure size 720x576 with 1 Axes>"
      ]
     },
     "metadata": {},
     "output_type": "display_data"
    }
   ],
   "source": [
    "plot_graph(df=model_box, title=\"KNN, XGBoost, and Decision Tree\", x=\"Models\")"
   ]
  },
  {
   "cell_type": "code",
   "execution_count": 61,
   "id": "5c223ef8",
   "metadata": {},
   "outputs": [
    {
     "data": {
      "image/png": "[encoded data removed]",
      "text/plain": [
       "<Figure size 720x576 with 1 Axes>"
      ]
     },
     "metadata": {},
     "output_type": "display_data"
    }
   ],
   "source": [
    "plot_graph(df=hy_box, title=\"Hybrid, KNN, XGBoost, and Decision Tree\", x=\"Models\")"
   ]
  }
 ],
 "metadata": {
  "kernelspec": {
   "display_name": "Python 3 (ipykernel)",
   "language": "python",
   "name": "python3"
  },
  "language_info": {
   "codemirror_mode": {
    "name": "ipython",
    "version": 3
   },
   "file_extension": ".py",
   "mimetype": "text/x-python",
   "name": "python",
   "nbconvert_exporter": "python",
   "pygments_lexer": "ipython3",
   "version": "3.9.7"
  },
  "vscode": {
   "interpreter": {
    "hash": "20c5e471190dc249d57155a443e529dd421961edabbedd9b435853486d613c88"
   }
  }
 },
 "nbformat": 4,
 "nbformat_minor": 5
}
